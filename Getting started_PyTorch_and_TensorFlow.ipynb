{
 "cells": [
  {
   "cell_type": "markdown",
   "metadata": {},
   "source": [
    "# Playing with Boxes\n",
    "\n",
    "In this notebook, we will perform the following tasks in **pytorch as well as tensorflow**:\n",
    "1. Create a tensor representation of a box\n",
    "2. Represent specific boxes using your tensor representation\n",
    "3. Create a function which calculates the intersection of two boxes\n",
    "3. Create a differentiable function to compute \"soft\" volumes of boxes\n",
    "4. Train one box to contain another\n",
    "\n",
    "\n",
    "This notebook is intended to be self-contained, but you may find it beneficial to consult Section 3.1 to 3.4 in [Representing Joint Hierarchies with Box Embeddings](https://openreview.net/pdf?id=J246NSqR_l)."
   ]
  },
  {
   "cell_type": "markdown",
   "metadata": {
    "pycharm": {
     "name": "#%% md\n"
    }
   },
   "source": [
    "## 1. Create a box parameterization\n",
    "\n",
    "A \"box\" is a product of intervals in $\\mathbb R^n$, i.e.\n",
    "\n",
    "$$X = \\prod_{i=1}^d [x_{m,i}, x_{M,i}], \\quad \\text{where} \\quad x_{M,i} \\ge x_{m,i} \\quad \\text{ for all } \\quad i.$$\n",
    "\n",
    "However you would like, create a way of storing parameters which represent a box. Crucially, your parameterization should conform to the requirement above, namely any setting of your parameterization should represent a box that has positive side-lengths in each dimension, and you should be able to represent any box in $\\mathbb R^n$. Furthermore, you should be able to return the min and max coordinates (i.e. the $x_{m,i}, x_{M, i}$ above) for your box. \n",
    "\n",
    "**Hint**: It might be benificial to create a \"wrapper\" class that holds the tensor(s) corresponding to the parameters of the box."
   ]
  },
  {
   "cell_type": "code",
   "execution_count": 23,
   "metadata": {},
   "outputs": [
    {
     "data": {
      "text/plain": [
       "tensor([[ 1.,  2.,  3.,  4.],\n",
       "        [ 7.,  8.,  9., 10.]])"
      ]
     },
     "execution_count": 23,
     "metadata": {},
     "output_type": "execute_result"
    }
   ],
   "source": [
    "# PyTorch version\n",
    "import torch\n",
    "\n",
    "# Wrapper class\n",
    "class Box_torch(object):\n",
    "    def __init__(self, x_m, x_M):\n",
    "        \"\"\"\n",
    "        x_m: min coordinate\n",
    "        x_M: max coordinate\n",
    "        \"\"\"\n",
    "        self.x_m = x_m\n",
    "        self.x_M = x_M\n",
    "    def create_box(self):\n",
    "        \"\"\"\n",
    "        create a torch tensor box\n",
    "        \"\"\"\n",
    "        box = torch.tensor([self.x_m, self.x_M], dtype=torch.float32)\n",
    "        return box\n",
    "\n",
    "box_method = Box_torch([1,2,3,4], [7,8,9,10])\n",
    "box_method.create_box()"
   ]
  },
  {
   "cell_type": "code",
   "execution_count": 24,
   "metadata": {},
   "outputs": [
    {
     "data": {
      "text/plain": [
       "<tf.Variable 'Variable:0' shape=(2, 4) dtype=float32, numpy=\n",
       "array([[ 1.,  2.,  3.,  4.],\n",
       "       [ 7.,  8.,  9., 10.]], dtype=float32)>"
      ]
     },
     "execution_count": 24,
     "metadata": {},
     "output_type": "execute_result"
    }
   ],
   "source": [
    "# TensorFlow version\n",
    "import tensorflow as tf\n",
    "\n",
    "# Wrapper class\n",
    "class Box_tf(object):\n",
    "    def __init__(self, x_m, x_M):\n",
    "        \"\"\"\n",
    "        x_m: min coordinate\n",
    "        x_M: max coordinate\n",
    "        \"\"\"\n",
    "        self.x_m = x_m\n",
    "        self.x_M = x_M\n",
    "    def create_box(self):\n",
    "        \"\"\"\n",
    "        create a Tf tensor box\n",
    "        \"\"\"\n",
    "        box = tf.Variable([self.x_m, self.x_M], dtype=tf.float32)\n",
    "        return box\n",
    "\n",
    "box_method = Box_tf([1,2,3,4], [7,8,9,10])\n",
    "box_method.create_box()"
   ]
  },
  {
   "cell_type": "markdown",
   "metadata": {
    "pycharm": {
     "name": "#%% md\n"
    }
   },
   "source": [
    "## 2. Represent Specific Boxes\n",
    "Using your chosen parameterization, represent a box `x` in $\\mathbb R^{100}$ which has side-lengths $2$ centered at $(-1,\\ldots, -1)$. \n",
    "Create another box `y` with min-coordinate $(1, \\frac 1 2, \\frac 1 3, \\ldots, \\frac 1 {100})$, and max-coordinate $(3 - \\frac 1 {100}, 3 - \\frac 1 {99}, \\ldots, 2)$.\n"
   ]
  },
  {
   "cell_type": "code",
   "execution_count": 25,
   "metadata": {
    "scrolled": true
   },
   "outputs": [],
   "source": [
    "# PyTorch version\n",
    "# Represent a specific box x\n",
    "import numpy as np\n",
    "dim = 100\n",
    "center = np.array([-1.0]*dim)\n",
    "x_length = np.array([2.0]*dim)\n",
    "box_method = Box_torch(center - (x_length/2.0), center + (x_length/2.0))\n",
    "x_torch = box_method.create_box()\n",
    "\n",
    "# Represent a specific box y\n",
    "import numpy as np\n",
    "y_m = 1/np.array(list(range(1, 101)))\n",
    "y_M = 3 - 1/np.array(list(range(100, 0, -1)))\n",
    "box_method = Box_torch(y_m, y_M)\n",
    "y_torch = box_method.create_box()"
   ]
  },
  {
   "cell_type": "code",
   "execution_count": 26,
   "metadata": {},
   "outputs": [],
   "source": [
    "# TensorFlow version\n",
    "# Represent a specific box x\n",
    "import numpy as np\n",
    "dim = 100\n",
    "center = np.array([-1.0]*dim)\n",
    "x_length = np.array([2.0]*dim)\n",
    "box_method = Box_tf(center - (x_length/2.0), center + (x_length/2.0))\n",
    "x_tf = box_method.create_box()\n",
    "\n",
    "# Represent a specific box y\n",
    "y_m = 1/np.array(list(range(1, 101)))\n",
    "y_M = 3 - 1/np.array(list(range(100, 0, -1)))\n",
    "box_method = Box_tf(y_m, y_M)\n",
    "y_tf = box_method.create_box()"
   ]
  },
  {
   "cell_type": "code",
   "execution_count": 27,
   "metadata": {},
   "outputs": [
    {
     "name": "stdout",
     "output_type": "stream",
     "text": [
      "x torch:  tensor([[-2., -2., -2., -2., -2., -2., -2., -2., -2., -2., -2., -2., -2., -2.,\n",
      "         -2., -2., -2., -2., -2., -2., -2., -2., -2., -2., -2., -2., -2., -2.,\n",
      "         -2., -2., -2., -2., -2., -2., -2., -2., -2., -2., -2., -2., -2., -2.,\n",
      "         -2., -2., -2., -2., -2., -2., -2., -2., -2., -2., -2., -2., -2., -2.,\n",
      "         -2., -2., -2., -2., -2., -2., -2., -2., -2., -2., -2., -2., -2., -2.,\n",
      "         -2., -2., -2., -2., -2., -2., -2., -2., -2., -2., -2., -2., -2., -2.,\n",
      "         -2., -2., -2., -2., -2., -2., -2., -2., -2., -2., -2., -2., -2., -2.,\n",
      "         -2., -2.],\n",
      "        [ 0.,  0.,  0.,  0.,  0.,  0.,  0.,  0.,  0.,  0.,  0.,  0.,  0.,  0.,\n",
      "          0.,  0.,  0.,  0.,  0.,  0.,  0.,  0.,  0.,  0.,  0.,  0.,  0.,  0.,\n",
      "          0.,  0.,  0.,  0.,  0.,  0.,  0.,  0.,  0.,  0.,  0.,  0.,  0.,  0.,\n",
      "          0.,  0.,  0.,  0.,  0.,  0.,  0.,  0.,  0.,  0.,  0.,  0.,  0.,  0.,\n",
      "          0.,  0.,  0.,  0.,  0.,  0.,  0.,  0.,  0.,  0.,  0.,  0.,  0.,  0.,\n",
      "          0.,  0.,  0.,  0.,  0.,  0.,  0.,  0.,  0.,  0.,  0.,  0.,  0.,  0.,\n",
      "          0.,  0.,  0.,  0.,  0.,  0.,  0.,  0.,  0.,  0.,  0.,  0.,  0.,  0.,\n",
      "          0.,  0.]])\n",
      "y torch:  tensor([[1.0000, 0.5000, 0.3333, 0.2500, 0.2000, 0.1667, 0.1429, 0.1250, 0.1111,\n",
      "         0.1000, 0.0909, 0.0833, 0.0769, 0.0714, 0.0667, 0.0625, 0.0588, 0.0556,\n",
      "         0.0526, 0.0500, 0.0476, 0.0455, 0.0435, 0.0417, 0.0400, 0.0385, 0.0370,\n",
      "         0.0357, 0.0345, 0.0333, 0.0323, 0.0312, 0.0303, 0.0294, 0.0286, 0.0278,\n",
      "         0.0270, 0.0263, 0.0256, 0.0250, 0.0244, 0.0238, 0.0233, 0.0227, 0.0222,\n",
      "         0.0217, 0.0213, 0.0208, 0.0204, 0.0200, 0.0196, 0.0192, 0.0189, 0.0185,\n",
      "         0.0182, 0.0179, 0.0175, 0.0172, 0.0169, 0.0167, 0.0164, 0.0161, 0.0159,\n",
      "         0.0156, 0.0154, 0.0152, 0.0149, 0.0147, 0.0145, 0.0143, 0.0141, 0.0139,\n",
      "         0.0137, 0.0135, 0.0133, 0.0132, 0.0130, 0.0128, 0.0127, 0.0125, 0.0123,\n",
      "         0.0122, 0.0120, 0.0119, 0.0118, 0.0116, 0.0115, 0.0114, 0.0112, 0.0111,\n",
      "         0.0110, 0.0109, 0.0108, 0.0106, 0.0105, 0.0104, 0.0103, 0.0102, 0.0101,\n",
      "         0.0100],\n",
      "        [2.9900, 2.9899, 2.9898, 2.9897, 2.9896, 2.9895, 2.9894, 2.9892, 2.9891,\n",
      "         2.9890, 2.9889, 2.9888, 2.9886, 2.9885, 2.9884, 2.9882, 2.9881, 2.9880,\n",
      "         2.9878, 2.9877, 2.9875, 2.9873, 2.9872, 2.9870, 2.9868, 2.9867, 2.9865,\n",
      "         2.9863, 2.9861, 2.9859, 2.9857, 2.9855, 2.9853, 2.9851, 2.9848, 2.9846,\n",
      "         2.9844, 2.9841, 2.9839, 2.9836, 2.9833, 2.9831, 2.9828, 2.9825, 2.9821,\n",
      "         2.9818, 2.9815, 2.9811, 2.9808, 2.9804, 2.9800, 2.9796, 2.9792, 2.9787,\n",
      "         2.9783, 2.9778, 2.9773, 2.9767, 2.9762, 2.9756, 2.9750, 2.9744, 2.9737,\n",
      "         2.9730, 2.9722, 2.9714, 2.9706, 2.9697, 2.9688, 2.9677, 2.9667, 2.9655,\n",
      "         2.9643, 2.9630, 2.9615, 2.9600, 2.9583, 2.9565, 2.9545, 2.9524, 2.9500,\n",
      "         2.9474, 2.9444, 2.9412, 2.9375, 2.9333, 2.9286, 2.9231, 2.9167, 2.9091,\n",
      "         2.9000, 2.8889, 2.8750, 2.8571, 2.8333, 2.8000, 2.7500, 2.6667, 2.5000,\n",
      "         2.0000]])\n",
      "x tf:  <tf.Variable 'Variable:0' shape=(2, 100) dtype=float32, numpy=\n",
      "array([[-2., -2., -2., -2., -2., -2., -2., -2., -2., -2., -2., -2., -2.,\n",
      "        -2., -2., -2., -2., -2., -2., -2., -2., -2., -2., -2., -2., -2.,\n",
      "        -2., -2., -2., -2., -2., -2., -2., -2., -2., -2., -2., -2., -2.,\n",
      "        -2., -2., -2., -2., -2., -2., -2., -2., -2., -2., -2., -2., -2.,\n",
      "        -2., -2., -2., -2., -2., -2., -2., -2., -2., -2., -2., -2., -2.,\n",
      "        -2., -2., -2., -2., -2., -2., -2., -2., -2., -2., -2., -2., -2.,\n",
      "        -2., -2., -2., -2., -2., -2., -2., -2., -2., -2., -2., -2., -2.,\n",
      "        -2., -2., -2., -2., -2., -2., -2., -2., -2.],\n",
      "       [ 0.,  0.,  0.,  0.,  0.,  0.,  0.,  0.,  0.,  0.,  0.,  0.,  0.,\n",
      "         0.,  0.,  0.,  0.,  0.,  0.,  0.,  0.,  0.,  0.,  0.,  0.,  0.,\n",
      "         0.,  0.,  0.,  0.,  0.,  0.,  0.,  0.,  0.,  0.,  0.,  0.,  0.,\n",
      "         0.,  0.,  0.,  0.,  0.,  0.,  0.,  0.,  0.,  0.,  0.,  0.,  0.,\n",
      "         0.,  0.,  0.,  0.,  0.,  0.,  0.,  0.,  0.,  0.,  0.,  0.,  0.,\n",
      "         0.,  0.,  0.,  0.,  0.,  0.,  0.,  0.,  0.,  0.,  0.,  0.,  0.,\n",
      "         0.,  0.,  0.,  0.,  0.,  0.,  0.,  0.,  0.,  0.,  0.,  0.,  0.,\n",
      "         0.,  0.,  0.,  0.,  0.,  0.,  0.,  0.,  0.]], dtype=float32)>\n",
      "y tf:  <tf.Variable 'Variable:0' shape=(2, 100) dtype=float32, numpy=\n",
      "array([[1.        , 0.5       , 0.33333334, 0.25      , 0.2       ,\n",
      "        0.16666667, 0.14285715, 0.125     , 0.11111111, 0.1       ,\n",
      "        0.09090909, 0.08333334, 0.07692308, 0.07142857, 0.06666667,\n",
      "        0.0625    , 0.05882353, 0.05555556, 0.05263158, 0.05      ,\n",
      "        0.04761905, 0.04545455, 0.04347826, 0.04166667, 0.04      ,\n",
      "        0.03846154, 0.03703704, 0.03571429, 0.03448276, 0.03333334,\n",
      "        0.03225806, 0.03125   , 0.03030303, 0.02941176, 0.02857143,\n",
      "        0.02777778, 0.02702703, 0.02631579, 0.02564103, 0.025     ,\n",
      "        0.02439024, 0.02380952, 0.02325581, 0.02272727, 0.02222222,\n",
      "        0.02173913, 0.0212766 , 0.02083333, 0.02040816, 0.02      ,\n",
      "        0.01960784, 0.01923077, 0.01886792, 0.01851852, 0.01818182,\n",
      "        0.01785714, 0.01754386, 0.01724138, 0.01694915, 0.01666667,\n",
      "        0.01639344, 0.01612903, 0.01587302, 0.015625  , 0.01538462,\n",
      "        0.01515152, 0.01492537, 0.01470588, 0.01449275, 0.01428571,\n",
      "        0.01408451, 0.01388889, 0.01369863, 0.01351351, 0.01333333,\n",
      "        0.01315789, 0.01298701, 0.01282051, 0.01265823, 0.0125    ,\n",
      "        0.01234568, 0.01219512, 0.01204819, 0.01190476, 0.01176471,\n",
      "        0.01162791, 0.01149425, 0.01136364, 0.01123596, 0.01111111,\n",
      "        0.01098901, 0.01086957, 0.01075269, 0.0106383 , 0.01052632,\n",
      "        0.01041667, 0.01030928, 0.01020408, 0.01010101, 0.01      ],\n",
      "       [2.99      , 2.989899  , 2.989796  , 2.9896908 , 2.9895833 ,\n",
      "        2.9894736 , 2.9893618 , 2.9892473 , 2.9891305 , 2.989011  ,\n",
      "        2.988889  , 2.988764  , 2.9886363 , 2.9885058 , 2.988372  ,\n",
      "        2.9882352 , 2.9880953 , 2.9879518 , 2.987805  , 2.9876542 ,\n",
      "        2.9875    , 2.987342  , 2.9871795 , 2.987013  , 2.9868422 ,\n",
      "        2.9866667 , 2.9864864 , 2.9863014 , 2.9861112 , 2.9859154 ,\n",
      "        2.9857142 , 2.9855072 , 2.985294  , 2.9850745 , 2.9848485 ,\n",
      "        2.9846153 , 2.984375  , 2.984127  , 2.983871  , 2.9836066 ,\n",
      "        2.9833333 , 2.9830508 , 2.9827585 , 2.9824562 , 2.982143  ,\n",
      "        2.9818182 , 2.9814816 , 2.981132  , 2.9807692 , 2.9803922 ,\n",
      "        2.98      , 2.9795918 , 2.9791667 , 2.9787233 , 2.9782608 ,\n",
      "        2.9777777 , 2.9772727 , 2.9767442 , 2.9761906 , 2.9756098 ,\n",
      "        2.975     , 2.974359  , 2.9736843 , 2.9729729 , 2.9722223 ,\n",
      "        2.9714286 , 2.9705882 , 2.969697  , 2.96875   , 2.967742  ,\n",
      "        2.9666667 , 2.9655173 , 2.9642856 , 2.9629629 , 2.9615386 ,\n",
      "        2.96      , 2.9583333 , 2.9565217 , 2.9545455 , 2.952381  ,\n",
      "        2.95      , 2.9473684 , 2.9444444 , 2.9411764 , 2.9375    ,\n",
      "        2.9333334 , 2.9285715 , 2.9230769 , 2.9166667 , 2.909091  ,\n",
      "        2.9       , 2.8888888 , 2.875     , 2.857143  , 2.8333333 ,\n",
      "        2.8       , 2.75      , 2.6666667 , 2.5       , 2.        ]],\n",
      "      dtype=float32)>\n"
     ]
    }
   ],
   "source": [
    "print('x torch: ', x_torch)\n",
    "print('y torch: ', y_torch)\n",
    "print('x tf: ', x_tf)\n",
    "print('y tf: ', y_tf)"
   ]
  },
  {
   "cell_type": "markdown",
   "metadata": {
    "pycharm": {
     "name": "#%% md\n"
    }
   },
   "source": [
    "## 3. Create an Intersection Function\n",
    "\n",
    "The box intersection operation takes two boxes as input and returns their intersection. In one-dimension, this is as follows:\n",
    "\n",
    "$$\\text{Int}([x_m, x_M], [y_m, y_M]) = (\\max(x_m, y_m), \\min(x_M, y_M)).$$\n",
    "\n",
    "Generalize this to $n$-dimensions, and write an intersection function which operates on your box parameterization.\n",
    "\n",
    "Take the intersection of the two boxes `x` and `y` you created in step 2, and display the min and max coordinates of the intersection."
   ]
  },
  {
   "cell_type": "code",
   "execution_count": 28,
   "metadata": {
    "pycharm": {
     "name": "#%%\n"
    }
   },
   "outputs": [],
   "source": [
    "def intersection_torch (x,y):\n",
    "    \"\"\"\n",
    "    this function takes two boxes x,y as input and returns their intersection\n",
    "    \"\"\"\n",
    "    max_coor = torch.max(x[0], y[0])\n",
    "    min_coor = torch.min(x[1], y[1])\n",
    "    return (max_coor, min_coor)\n",
    "\n",
    "def intersection_tf(x,y):\n",
    "    \"\"\"\n",
    "    this function takes two boxes x,y as input and returns their intersection\n",
    "    \"\"\"\n",
    "    max_coor = tf.math.maximum(x[0], y[0])\n",
    "    min_coor = tf.math.minimum(x[1], y[1])\n",
    "    return (max_coor, min_coor)"
   ]
  },
  {
   "cell_type": "code",
   "execution_count": 29,
   "metadata": {},
   "outputs": [
    {
     "data": {
      "text/plain": [
       "(tensor([1.0000, 0.5000, 0.3333, 0.2500, 0.2000, 0.1667, 0.1429, 0.1250, 0.1111,\n",
       "         0.1000, 0.0909, 0.0833, 0.0769, 0.0714, 0.0667, 0.0625, 0.0588, 0.0556,\n",
       "         0.0526, 0.0500, 0.0476, 0.0455, 0.0435, 0.0417, 0.0400, 0.0385, 0.0370,\n",
       "         0.0357, 0.0345, 0.0333, 0.0323, 0.0312, 0.0303, 0.0294, 0.0286, 0.0278,\n",
       "         0.0270, 0.0263, 0.0256, 0.0250, 0.0244, 0.0238, 0.0233, 0.0227, 0.0222,\n",
       "         0.0217, 0.0213, 0.0208, 0.0204, 0.0200, 0.0196, 0.0192, 0.0189, 0.0185,\n",
       "         0.0182, 0.0179, 0.0175, 0.0172, 0.0169, 0.0167, 0.0164, 0.0161, 0.0159,\n",
       "         0.0156, 0.0154, 0.0152, 0.0149, 0.0147, 0.0145, 0.0143, 0.0141, 0.0139,\n",
       "         0.0137, 0.0135, 0.0133, 0.0132, 0.0130, 0.0128, 0.0127, 0.0125, 0.0123,\n",
       "         0.0122, 0.0120, 0.0119, 0.0118, 0.0116, 0.0115, 0.0114, 0.0112, 0.0111,\n",
       "         0.0110, 0.0109, 0.0108, 0.0106, 0.0105, 0.0104, 0.0103, 0.0102, 0.0101,\n",
       "         0.0100]),\n",
       " tensor([0., 0., 0., 0., 0., 0., 0., 0., 0., 0., 0., 0., 0., 0., 0., 0., 0., 0., 0., 0., 0., 0., 0., 0.,\n",
       "         0., 0., 0., 0., 0., 0., 0., 0., 0., 0., 0., 0., 0., 0., 0., 0., 0., 0., 0., 0., 0., 0., 0., 0.,\n",
       "         0., 0., 0., 0., 0., 0., 0., 0., 0., 0., 0., 0., 0., 0., 0., 0., 0., 0., 0., 0., 0., 0., 0., 0.,\n",
       "         0., 0., 0., 0., 0., 0., 0., 0., 0., 0., 0., 0., 0., 0., 0., 0., 0., 0., 0., 0., 0., 0., 0., 0.,\n",
       "         0., 0., 0., 0.]))"
      ]
     },
     "execution_count": 29,
     "metadata": {},
     "output_type": "execute_result"
    }
   ],
   "source": [
    "intersection_torch (x_torch, y_torch)"
   ]
  },
  {
   "cell_type": "code",
   "execution_count": 30,
   "metadata": {},
   "outputs": [
    {
     "data": {
      "text/plain": [
       "(<tf.Tensor: shape=(100,), dtype=float32, numpy=\n",
       " array([1.        , 0.5       , 0.33333334, 0.25      , 0.2       ,\n",
       "        0.16666667, 0.14285715, 0.125     , 0.11111111, 0.1       ,\n",
       "        0.09090909, 0.08333334, 0.07692308, 0.07142857, 0.06666667,\n",
       "        0.0625    , 0.05882353, 0.05555556, 0.05263158, 0.05      ,\n",
       "        0.04761905, 0.04545455, 0.04347826, 0.04166667, 0.04      ,\n",
       "        0.03846154, 0.03703704, 0.03571429, 0.03448276, 0.03333334,\n",
       "        0.03225806, 0.03125   , 0.03030303, 0.02941176, 0.02857143,\n",
       "        0.02777778, 0.02702703, 0.02631579, 0.02564103, 0.025     ,\n",
       "        0.02439024, 0.02380952, 0.02325581, 0.02272727, 0.02222222,\n",
       "        0.02173913, 0.0212766 , 0.02083333, 0.02040816, 0.02      ,\n",
       "        0.01960784, 0.01923077, 0.01886792, 0.01851852, 0.01818182,\n",
       "        0.01785714, 0.01754386, 0.01724138, 0.01694915, 0.01666667,\n",
       "        0.01639344, 0.01612903, 0.01587302, 0.015625  , 0.01538462,\n",
       "        0.01515152, 0.01492537, 0.01470588, 0.01449275, 0.01428571,\n",
       "        0.01408451, 0.01388889, 0.01369863, 0.01351351, 0.01333333,\n",
       "        0.01315789, 0.01298701, 0.01282051, 0.01265823, 0.0125    ,\n",
       "        0.01234568, 0.01219512, 0.01204819, 0.01190476, 0.01176471,\n",
       "        0.01162791, 0.01149425, 0.01136364, 0.01123596, 0.01111111,\n",
       "        0.01098901, 0.01086957, 0.01075269, 0.0106383 , 0.01052632,\n",
       "        0.01041667, 0.01030928, 0.01020408, 0.01010101, 0.01      ],\n",
       "       dtype=float32)>,\n",
       " <tf.Tensor: shape=(100,), dtype=float32, numpy=\n",
       " array([0., 0., 0., 0., 0., 0., 0., 0., 0., 0., 0., 0., 0., 0., 0., 0., 0.,\n",
       "        0., 0., 0., 0., 0., 0., 0., 0., 0., 0., 0., 0., 0., 0., 0., 0., 0.,\n",
       "        0., 0., 0., 0., 0., 0., 0., 0., 0., 0., 0., 0., 0., 0., 0., 0., 0.,\n",
       "        0., 0., 0., 0., 0., 0., 0., 0., 0., 0., 0., 0., 0., 0., 0., 0., 0.,\n",
       "        0., 0., 0., 0., 0., 0., 0., 0., 0., 0., 0., 0., 0., 0., 0., 0., 0.,\n",
       "        0., 0., 0., 0., 0., 0., 0., 0., 0., 0., 0., 0., 0., 0., 0.],\n",
       "       dtype=float32)>)"
      ]
     },
     "execution_count": 30,
     "metadata": {},
     "output_type": "execute_result"
    }
   ],
   "source": [
    "intersection_tf (x_tf, y_tf)"
   ]
  },
  {
   "cell_type": "markdown",
   "metadata": {},
   "source": [
    "## 4. Create a \"Soft\" Volume Function\n",
    "The \"softplus volume\" of a box is defined as\n",
    "\n",
    "$$\\text{SoftVol}[X] = \\prod_{i=1}^d \\log(1 + \\exp(x_{M,i} - x_{m,i})).$$\n",
    "\n",
    "Create this volume function, and attempt to use it to determine which of the boxes `x` and `y` from part (2) are larger. What issues do you encounter? Can you mitigate these issues?"
   ]
  },
  {
   "cell_type": "code",
   "execution_count": 31,
   "metadata": {
    "pycharm": {
     "name": "#%%\n"
    }
   },
   "outputs": [],
   "source": [
    "# Soft Volume Function - Pytorch Version\n",
    "import torch\n",
    "def softplus_vol_torch(m, M):\n",
    "    \"\"\"\n",
    "    given min and max coordinates of a box, compute soft volumn\n",
    "    \"\"\"\n",
    "    vol = torch.prod(torch.log(1 + torch.exp(M-m)))\n",
    "    return vol\n",
    "\n",
    "#---------------------\n",
    "\n",
    "# Soft Volume Function - TensorFlow Version\n",
    "import tensorflow as tf\n",
    "def softplus_vol_tf(m, M):\n",
    "    \"\"\"\n",
    "    given min and max coordinates of a box, compute soft volumn\n",
    "    \"\"\"\n",
    "    vol = tf.math.reduce_prod(tf.math.log(1+tf.math.exp(M-m)))\n",
    "    return vol"
   ]
  },
  {
   "cell_type": "code",
   "execution_count": 32,
   "metadata": {},
   "outputs": [
    {
     "name": "stdout",
     "output_type": "stream",
     "text": [
      "tensor(5.9605e+32)\n",
      "tf.Tensor(5.9604763e+32, shape=(), dtype=float32)\n",
      "-----------\n",
      "tensor(inf)\n",
      "tf.Tensor(inf, shape=(), dtype=float32)\n"
     ]
    }
   ],
   "source": [
    "print(softplus_vol_torch(x_torch[0], x_torch[1]))\n",
    "print(softplus_vol_tf(x_tf[0], x_tf[1]))\n",
    "print('-----------')\n",
    "print(softplus_vol_torch(y_torch[0], y_torch[1]))\n",
    "print(softplus_vol_tf(y_tf[0], y_tf[1]))"
   ]
  },
  {
   "cell_type": "markdown",
   "metadata": {},
   "source": [
    "I noticed that if I use `float32`, the volumn of y will be `Inf` (Too big to display). If I use `float64`, I can see the exact answer. However, `float64` will be very expensive for calculation later on. Inspired by the methods to tackle gradient overflow in training DNN models, we can try:  \n",
    "- **Scaling**: We can try to normalize the vector  $(x_{M,i} - x_{m,i})$ (i.e. vector with a predefined norm such as 1.0)\n",
    "- **Clipping**: We can force the volumn to be a specific maximum value if it exceeds an expected value."
   ]
  },
  {
   "cell_type": "markdown",
   "metadata": {
    "pycharm": {
     "name": "#%% md\n"
    }
   },
   "source": [
    "## 5. Training Boxes\n",
    "We say box $X$ contains box $Y$ if, for each dimension $i$, we have\n",
    "$$x_{m,i} < y_{m,i} < y_{M,i} < x_{M,i}.$$\n",
    "\n",
    "Freezing the coordinates of box `x` from earlier, use gradient-descent to train box `y` such that it is contained in `x`.\n",
    "\n",
    "**Hint:** Visualize typical boxes in 2-dimensions, and note that if a box $Y$ were contained in $X$ then $\\text{Vol}(\\text{Int}(X, Y)) = \\text{Vol}(Y)$.\n",
    "\n",
    "**Hint:** You can use/invent any loss function as long as it has a local minima that corresponds to satisfying the inequality given above.\n",
    "\n",
    "**Comment** The way I set up the loss is probably wrong, so I didn't achieve what was asked for this question"
   ]
  },
  {
   "cell_type": "code",
   "execution_count": 34,
   "metadata": {
    "pycharm": {
     "name": "#%%\n"
    }
   },
   "outputs": [
    {
     "name": "stdout",
     "output_type": "stream",
     "text": [
      "using device: cpu\n",
      "Iteration 0, loss = 82.7259\n",
      "Iteration 1, loss = 82.7259\n",
      "Iteration 2, loss = 82.7259\n",
      "Iteration 3, loss = 82.7259\n",
      "Iteration 4, loss = 82.7259\n",
      "Iteration 5, loss = 82.7259\n",
      "Iteration 6, loss = 82.7259\n",
      "Iteration 7, loss = 82.7259\n",
      "Iteration 8, loss = 82.7259\n",
      "Iteration 9, loss = 82.7259\n"
     ]
    }
   ],
   "source": [
    "# Training boxes\n",
    "import torch.optim as optim\n",
    "import torch.nn as nn\n",
    "dtype = torch.float32\n",
    "device = torch.device('cpu')\n",
    "print('using device:', device)\n",
    "learning_rate = 1e-2\n",
    "\n",
    "def train(x, y, optimizer, epochs=1):\n",
    "    if softplus_vol_torch(intersection_torch(x,y)[0], intersection_torch(x,y)[1]) == softplus_vol_torch(y[0], y[1]):\n",
    "        print ('success: y is already contained in x!')\n",
    "    else:\n",
    "        for e in range(epochs):\n",
    "            x_m = x[0].to(device=device, dtype=dtype).requires_grad_()\n",
    "            x_M = x[1].to(device=device, dtype=dtype).requires_grad_()\n",
    "            y_m = y[0].to(device=device, dtype=dtype).requires_grad_()\n",
    "            y_M = y[1].to(device=device, dtype=dtype).requires_grad_()\n",
    "            loss = torch.sum(torch.square(x_M-y_M+y_m-x_m)) # Least square loss\n",
    "            optimizer.zero_grad()\n",
    "            loss.backward()    \n",
    "            optimizer.step()\n",
    "            print('Iteration %d, loss = %.4f' % (e, loss.item()))\n",
    "\n",
    "optimizer =  torch.optim.SGD([y_torch[0], y_torch[1]], lr=learning_rate)\n",
    "train(x_torch, y_torch, optimizer, epochs=10)"
   ]
  },
  {
   "cell_type": "code",
   "execution_count": 35,
   "metadata": {},
   "outputs": [
    {
     "name": "stdout",
     "output_type": "stream",
     "text": [
      "Using device:  /cpu:0\n",
      "Iteration 0, loss = 82.7259\n",
      "Iteration 1, loss = 82.7259\n",
      "Iteration 2, loss = 82.7259\n",
      "Iteration 3, loss = 82.7259\n",
      "Iteration 4, loss = 82.7259\n",
      "Iteration 5, loss = 82.7259\n",
      "Iteration 6, loss = 82.7259\n",
      "Iteration 7, loss = 82.7259\n",
      "Iteration 8, loss = 82.7259\n",
      "Iteration 9, loss = 82.7259\n"
     ]
    }
   ],
   "source": [
    "# Training boxes\n",
    "import tensorflow as tf\n",
    "from tensorflow import keras\n",
    "from tensorflow.keras import layers\n",
    "import numpy as np\n",
    "dtype = torch.float32\n",
    "device = '/cpu:0'\n",
    "print('Using device: ', device)\n",
    "\n",
    "optimizer = keras.optimizers.SGD(learning_rate=1e-2)\n",
    "\n",
    "def train(x, y, optimizer, epochs=1):\n",
    "    if softplus_vol_tf(intersection_tf(x,y)[0], intersection_tf(x,y)[1]) == softplus_vol_tf(y[0], y[1]):\n",
    "        print ('success: y is already contained in x!')\n",
    "    else:\n",
    "        for e in range(epochs):\n",
    "             with tf.GradientTape() as tape:\n",
    "                x_m = x[0]\n",
    "                x_M = x[1]\n",
    "                y_m = y[0]\n",
    "                y_M = y[1]\n",
    "                loss = tf.math.reduce_sum(tf.square(x_M-y_M+y_m-x_m)) # Least square loss\n",
    "                grads = tape.gradient(loss, [y_m, y_M])\n",
    "                \n",
    "                print('Iteration %d, loss = %.4f' % (e, loss))\n",
    "\n",
    "train(x_tf, y_tf, optimizer, epochs=10)"
   ]
  },
  {
   "cell_type": "code",
   "execution_count": null,
   "metadata": {},
   "outputs": [],
   "source": []
  }
 ],
 "metadata": {
  "kernelspec": {
   "display_name": "Python 3",
   "language": "python",
   "name": "python3"
  },
  "language_info": {
   "codemirror_mode": {
    "name": "ipython",
    "version": 3
   },
   "file_extension": ".py",
   "mimetype": "text/x-python",
   "name": "python",
   "nbconvert_exporter": "python",
   "pygments_lexer": "ipython3",
   "version": "3.8.5"
  }
 },
 "nbformat": 4,
 "nbformat_minor": 5
}
